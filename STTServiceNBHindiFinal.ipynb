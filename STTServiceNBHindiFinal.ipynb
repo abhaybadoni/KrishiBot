{
  "nbformat": 4,
  "nbformat_minor": 0,
  "metadata": {
    "colab": {
      "provenance": []
    },
    "kernelspec": {
      "name": "python3",
      "display_name": "Python 3"
    },
    "language_info": {
      "name": "python"
    }
  },
  "cells": [
    {
      "cell_type": "code",
      "execution_count": 1,
      "metadata": {
        "colab": {
          "base_uri": "https://localhost:8080/"
        },
        "id": "EMTcjPZ7dszS",
        "outputId": "3652098f-4323-4357-ccef-d83636967dd7"
      },
      "outputs": [
        {
          "output_type": "stream",
          "name": "stdout",
          "text": [
            "Collecting vosk==0.3.45\n",
            "  Downloading vosk-0.3.45-py3-none-manylinux_2_12_x86_64.manylinux2010_x86_64.whl.metadata (1.8 kB)\n",
            "Requirement already satisfied: flask in /usr/local/lib/python3.11/dist-packages (3.1.0)\n",
            "Collecting flask_cors\n",
            "  Downloading flask_cors-5.0.1-py3-none-any.whl.metadata (961 bytes)\n",
            "Collecting pyngrok\n",
            "  Downloading pyngrok-7.2.5-py3-none-any.whl.metadata (8.9 kB)\n",
            "Requirement already satisfied: cffi>=1.0 in /usr/local/lib/python3.11/dist-packages (from vosk==0.3.45) (1.17.1)\n",
            "Requirement already satisfied: requests in /usr/local/lib/python3.11/dist-packages (from vosk==0.3.45) (2.32.3)\n",
            "Requirement already satisfied: tqdm in /usr/local/lib/python3.11/dist-packages (from vosk==0.3.45) (4.67.1)\n",
            "Collecting srt (from vosk==0.3.45)\n",
            "  Downloading srt-3.5.3.tar.gz (28 kB)\n",
            "  Preparing metadata (setup.py) ... \u001b[?25l\u001b[?25hdone\n",
            "Requirement already satisfied: websockets in /usr/local/lib/python3.11/dist-packages (from vosk==0.3.45) (15.0.1)\n",
            "Requirement already satisfied: Werkzeug>=3.1 in /usr/local/lib/python3.11/dist-packages (from flask) (3.1.3)\n",
            "Requirement already satisfied: Jinja2>=3.1.2 in /usr/local/lib/python3.11/dist-packages (from flask) (3.1.6)\n",
            "Requirement already satisfied: itsdangerous>=2.2 in /usr/local/lib/python3.11/dist-packages (from flask) (2.2.0)\n",
            "Requirement already satisfied: click>=8.1.3 in /usr/local/lib/python3.11/dist-packages (from flask) (8.1.8)\n",
            "Requirement already satisfied: blinker>=1.9 in /usr/local/lib/python3.11/dist-packages (from flask) (1.9.0)\n",
            "Requirement already satisfied: PyYAML>=5.1 in /usr/local/lib/python3.11/dist-packages (from pyngrok) (6.0.2)\n",
            "Requirement already satisfied: pycparser in /usr/local/lib/python3.11/dist-packages (from cffi>=1.0->vosk==0.3.45) (2.22)\n",
            "Requirement already satisfied: MarkupSafe>=2.0 in /usr/local/lib/python3.11/dist-packages (from Jinja2>=3.1.2->flask) (3.0.2)\n",
            "Requirement already satisfied: charset-normalizer<4,>=2 in /usr/local/lib/python3.11/dist-packages (from requests->vosk==0.3.45) (3.4.1)\n",
            "Requirement already satisfied: idna<4,>=2.5 in /usr/local/lib/python3.11/dist-packages (from requests->vosk==0.3.45) (3.10)\n",
            "Requirement already satisfied: urllib3<3,>=1.21.1 in /usr/local/lib/python3.11/dist-packages (from requests->vosk==0.3.45) (2.4.0)\n",
            "Requirement already satisfied: certifi>=2017.4.17 in /usr/local/lib/python3.11/dist-packages (from requests->vosk==0.3.45) (2025.1.31)\n",
            "Downloading vosk-0.3.45-py3-none-manylinux_2_12_x86_64.manylinux2010_x86_64.whl (7.2 MB)\n",
            "\u001b[2K   \u001b[90m━━━━━━━━━━━━━━━━━━━━━━━━━━━━━━━━━━━━━━━━\u001b[0m \u001b[32m7.2/7.2 MB\u001b[0m \u001b[31m20.2 MB/s\u001b[0m eta \u001b[36m0:00:00\u001b[0m\n",
            "\u001b[?25hDownloading flask_cors-5.0.1-py3-none-any.whl (11 kB)\n",
            "Downloading pyngrok-7.2.5-py3-none-any.whl (23 kB)\n",
            "Building wheels for collected packages: srt\n",
            "  Building wheel for srt (setup.py) ... \u001b[?25l\u001b[?25hdone\n",
            "  Created wheel for srt: filename=srt-3.5.3-py3-none-any.whl size=22427 sha256=60333c514db434a32ffd29c000b2e8f08819a200ec724644e4272d71d580439e\n",
            "  Stored in directory: /root/.cache/pip/wheels/1f/43/f1/23ee9119497fcb57d9f7046fbf34c6d9027c46a1fa7824cf08\n",
            "Successfully built srt\n",
            "Installing collected packages: srt, pyngrok, vosk, flask_cors\n",
            "Successfully installed flask_cors-5.0.1 pyngrok-7.2.5 srt-3.5.3 vosk-0.3.45\n",
            "Reading package lists... Done\n",
            "Building dependency tree... Done\n",
            "Reading state information... Done\n",
            "libsndfile1 is already the newest version (1.0.31-2ubuntu0.2).\n",
            "0 upgraded, 0 newly installed, 0 to remove and 34 not upgraded.\n",
            "--2025-04-29 13:41:49--  https://alphacephei.com/vosk/models/vosk-model-small-hi-0.22.zip\n",
            "Resolving alphacephei.com (alphacephei.com)... 188.40.21.16, 2a01:4f8:13a:279f::2\n",
            "Connecting to alphacephei.com (alphacephei.com)|188.40.21.16|:443... connected.\n",
            "HTTP request sent, awaiting response... 200 OK\n",
            "Length: 44458845 (42M) [application/zip]\n",
            "Saving to: ‘vosk-model-small-hi-0.22.zip’\n",
            "\n",
            "vosk-model-small-hi 100%[===================>]  42.40M  19.0MB/s    in 2.2s    \n",
            "\n",
            "2025-04-29 13:41:52 (19.0 MB/s) - ‘vosk-model-small-hi-0.22.zip’ saved [44458845/44458845]\n",
            "\n",
            "Archive:  vosk-model-small-hi-0.22.zip\n",
            "   creating: vosk-model-small-hi-0.22/\n",
            "   creating: vosk-model-small-hi-0.22/graph/\n",
            "   creating: vosk-model-small-hi-0.22/graph/phones/\n",
            "  inflating: vosk-model-small-hi-0.22/graph/phones/word_boundary.int  \n",
            "  inflating: vosk-model-small-hi-0.22/graph/Gr.fst  \n",
            "  inflating: vosk-model-small-hi-0.22/graph/HCLr.fst  \n",
            "  inflating: vosk-model-small-hi-0.22/graph/disambig_tid.int  \n",
            "   creating: vosk-model-small-hi-0.22/am/\n",
            "  inflating: vosk-model-small-hi-0.22/am/final.mdl  \n",
            "  inflating: vosk-model-small-hi-0.22/README  \n",
            "   creating: vosk-model-small-hi-0.22/conf/\n",
            "  inflating: vosk-model-small-hi-0.22/conf/model.conf  \n",
            "  inflating: vosk-model-small-hi-0.22/conf/mfcc.conf  \n",
            "   creating: vosk-model-small-hi-0.22/ivector/\n",
            "  inflating: vosk-model-small-hi-0.22/ivector/final.dubm  \n",
            "  inflating: vosk-model-small-hi-0.22/ivector/global_cmvn.stats  \n",
            "  inflating: vosk-model-small-hi-0.22/ivector/final.ie  \n",
            "  inflating: vosk-model-small-hi-0.22/ivector/final.mat  \n",
            "  inflating: vosk-model-small-hi-0.22/ivector/splice.conf  \n",
            " extracting: vosk-model-small-hi-0.22/ivector/online_cmvn.conf  \n"
          ]
        }
      ],
      "source": [
        "!pip install vosk==0.3.45 flask flask_cors pyngrok\n",
        "!apt-get install -y libsndfile1\n",
        "!wget https://alphacephei.com/vosk/models/vosk-model-small-hi-0.22.zip\n",
        "!unzip vosk-model-small-hi-0.22.zip"
      ]
    },
    {
      "cell_type": "code",
      "source": [
        "from flask import Flask, request, jsonify\n",
        "from flask_cors import CORS\n",
        "from vosk import Model, KaldiRecognizer\n",
        "import wave\n",
        "import json\n",
        "from pyngrok import ngrok"
      ],
      "metadata": {
        "id": "FBEi9TppeMP3"
      },
      "execution_count": 2,
      "outputs": []
    },
    {
      "cell_type": "code",
      "source": [
        "!ngrok config add-authtoken 2wPDgUvkvFjtmraTwQLUcQ6tDPv_4YQFExk8HcddoxTNLvehD"
      ],
      "metadata": {
        "colab": {
          "base_uri": "https://localhost:8080/"
        },
        "id": "Gr9E3CbYfFuv",
        "outputId": "37c33a52-4c13-4b90-9472-c462582fec15"
      },
      "execution_count": 13,
      "outputs": [
        {
          "output_type": "stream",
          "name": "stdout",
          "text": [
            "Authtoken saved to configuration file: /root/.config/ngrok/ngrok.yml\n"
          ]
        }
      ]
    },
    {
      "cell_type": "code",
      "source": [
        "app = Flask(__name__)\n",
        "CORS(app)"
      ],
      "metadata": {
        "colab": {
          "base_uri": "https://localhost:8080/"
        },
        "id": "VjRVmSWbghvn",
        "outputId": "8f93ca7b-f010-4ace-b5b4-438a57b0e4a0"
      },
      "execution_count": 8,
      "outputs": [
        {
          "output_type": "execute_result",
          "data": {
            "text/plain": [
              "<flask_cors.extension.CORS at 0x7ce9201076d0>"
            ]
          },
          "metadata": {},
          "execution_count": 8
        }
      ]
    },
    {
      "cell_type": "code",
      "source": [
        "model = Model(\"/content/vosk-model-small-hi-0.22\")"
      ],
      "metadata": {
        "id": "7poYuKPzgn6A"
      },
      "execution_count": 9,
      "outputs": []
    },
    {
      "cell_type": "code",
      "source": [
        "@app.route('/stthn', methods=['POST'])\n",
        "def stt():\n",
        "    audio_file = request.files['audio']\n",
        "    wf = wave.open(audio_file, 'rb')\n",
        "    rec = KaldiRecognizer(model, wf.getframerate())\n",
        "    rec.SetWords(True)\n",
        "\n",
        "    text = []\n",
        "    while True:\n",
        "        data = wf.readframes(4000)\n",
        "        if len(data) == 0:\n",
        "            break\n",
        "        if rec.AcceptWaveform(data):\n",
        "            res = json.loads(rec.Result())\n",
        "            text.append(res.get('text', ''))\n",
        "\n",
        "    # Final result\n",
        "    final_res = json.loads(rec.FinalResult())\n",
        "    text.append(final_res.get('text', ''))\n",
        "\n",
        "    return jsonify({'text': ' '.join(text)})\n"
      ],
      "metadata": {
        "id": "MTOsxzEagtGJ"
      },
      "execution_count": 10,
      "outputs": []
    },
    {
      "cell_type": "code",
      "source": [
        "public_url = ngrok.connect(5001)\n",
        "print(f\"🔥 Ngrok tunnel running at: {public_url}\")\n",
        "\n",
        "app.run(port=5001)"
      ],
      "metadata": {
        "colab": {
          "base_uri": "https://localhost:8080/"
        },
        "id": "b73U6liVg0L7",
        "outputId": "fa5cef7f-00f4-4ddb-ba68-46c7e0a6943b"
      },
      "execution_count": 14,
      "outputs": [
        {
          "output_type": "stream",
          "name": "stdout",
          "text": [
            "🔥 Ngrok tunnel running at: NgrokTunnel: \"https://b256-35-243-144-78.ngrok-free.app\" -> \"http://localhost:5001\"\n",
            " * Serving Flask app '__main__'\n",
            " * Debug mode: off\n"
          ]
        },
        {
          "output_type": "stream",
          "name": "stderr",
          "text": [
            "INFO:werkzeug:\u001b[31m\u001b[1mWARNING: This is a development server. Do not use it in a production deployment. Use a production WSGI server instead.\u001b[0m\n",
            " * Running on http://127.0.0.1:5001\n",
            "INFO:werkzeug:\u001b[33mPress CTRL+C to quit\u001b[0m\n",
            "INFO:werkzeug:127.0.0.1 - - [29/Apr/2025 13:50:26] \"POST /stthn HTTP/1.1\" 200 -\n",
            "WARNING:pyngrok.process.ngrok:t=2025-04-29T13:50:37+0000 lvl=warn msg=\"Stopping forwarder\" name=http-5001-18e85d85-7d20-44d0-898c-62e97924794f acceptErr=\"failed to accept connection: Listener closed\"\n",
            "WARNING:pyngrok.process.ngrok:t=2025-04-29T13:50:37+0000 lvl=warn msg=\"Error restarting forwarder\" name=http-5001-18e85d85-7d20-44d0-898c-62e97924794f err=\"failed to start tunnel: session closed\"\n"
          ]
        }
      ]
    }
  ]
}